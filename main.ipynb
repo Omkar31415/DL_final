{
 "cells": [
  {
   "cell_type": "code",
   "execution_count": null,
   "metadata": {},
   "outputs": [],
   "source": [
    "# jupyter-lab\n",
    "\n",
    "!conda install -c conda-forge ipympl\n",
    "# conda install nodejs -c conda-forge --repodata-fn=repodata.json\n",
    "# If using JupyterLab 2\n",
    "!conda install nodejs\n",
    "!jupyter labextension install @jupyter-widgets/jupyterlab-manager\n",
    "!jupyter lab build\n",
    "\n",
    "# Later, if updating a previous Lab install:\n",
    "!conda install ipympl\n",
    "!jupyter lab build\n",
    "\n",
    "#pip install -U jupyterlab ipywidgets jupyterlab-widgets"
   ]
  },
  {
   "cell_type": "code",
   "execution_count": 10,
   "metadata": {},
   "outputs": [
    {
     "name": "stdout",
     "output_type": "stream",
     "text": [
      "Collecting ipywidgets==7.7.2\n",
      "  Downloading ipywidgets-7.7.2-py2.py3-none-any.whl.metadata (1.9 kB)\n",
      "Requirement already satisfied: ipykernel>=4.5.1 in c:\\users\\jagru\\anaconda3\\envs\\dl1\\lib\\site-packages (from ipywidgets==7.7.2) (6.29.5)\n",
      "Requirement already satisfied: ipython-genutils~=0.2.0 in c:\\users\\jagru\\anaconda3\\envs\\dl1\\lib\\site-packages (from ipywidgets==7.7.2) (0.2.0)\n",
      "Requirement already satisfied: traitlets>=4.3.1 in c:\\users\\jagru\\anaconda3\\envs\\dl1\\lib\\site-packages (from ipywidgets==7.7.2) (5.14.3)\n",
      "Collecting widgetsnbextension~=3.6.0 (from ipywidgets==7.7.2)\n",
      "  Downloading widgetsnbextension-3.6.10-py2.py3-none-any.whl.metadata (1.3 kB)\n",
      "Requirement already satisfied: ipython>=4.0.0 in c:\\users\\jagru\\anaconda3\\envs\\dl1\\lib\\site-packages (from ipywidgets==7.7.2) (8.27.0)\n",
      "Collecting jupyterlab-widgets<3,>=1.0.0 (from ipywidgets==7.7.2)\n",
      "  Downloading jupyterlab_widgets-1.1.11-py3-none-any.whl.metadata (3.7 kB)\n",
      "Requirement already satisfied: comm>=0.1.1 in c:\\users\\jagru\\anaconda3\\envs\\dl1\\lib\\site-packages (from ipykernel>=4.5.1->ipywidgets==7.7.2) (0.2.2)\n",
      "Requirement already satisfied: debugpy>=1.6.5 in c:\\users\\jagru\\anaconda3\\envs\\dl1\\lib\\site-packages (from ipykernel>=4.5.1->ipywidgets==7.7.2) (1.8.8)\n",
      "Requirement already satisfied: jupyter-client>=6.1.12 in c:\\users\\jagru\\anaconda3\\envs\\dl1\\lib\\site-packages (from ipykernel>=4.5.1->ipywidgets==7.7.2) (8.6.3)\n",
      "Requirement already satisfied: jupyter-core!=5.0.*,>=4.12 in c:\\users\\jagru\\anaconda3\\envs\\dl1\\lib\\site-packages (from ipykernel>=4.5.1->ipywidgets==7.7.2) (5.7.2)\n",
      "Requirement already satisfied: matplotlib-inline>=0.1 in c:\\users\\jagru\\anaconda3\\envs\\dl1\\lib\\site-packages (from ipykernel>=4.5.1->ipywidgets==7.7.2) (0.1.6)\n",
      "Requirement already satisfied: nest-asyncio in c:\\users\\jagru\\anaconda3\\envs\\dl1\\lib\\site-packages (from ipykernel>=4.5.1->ipywidgets==7.7.2) (1.6.0)\n",
      "Requirement already satisfied: packaging in c:\\users\\jagru\\anaconda3\\envs\\dl1\\lib\\site-packages (from ipykernel>=4.5.1->ipywidgets==7.7.2) (24.2)\n",
      "Requirement already satisfied: psutil in c:\\users\\jagru\\anaconda3\\envs\\dl1\\lib\\site-packages (from ipykernel>=4.5.1->ipywidgets==7.7.2) (6.1.0)\n",
      "Requirement already satisfied: pyzmq>=24 in c:\\users\\jagru\\anaconda3\\envs\\dl1\\lib\\site-packages (from ipykernel>=4.5.1->ipywidgets==7.7.2) (26.2.0)\n",
      "Requirement already satisfied: tornado>=6.1 in c:\\users\\jagru\\anaconda3\\envs\\dl1\\lib\\site-packages (from ipykernel>=4.5.1->ipywidgets==7.7.2) (6.4.1)\n",
      "Requirement already satisfied: decorator in c:\\users\\jagru\\anaconda3\\envs\\dl1\\lib\\site-packages (from ipython>=4.0.0->ipywidgets==7.7.2) (5.1.1)\n",
      "Requirement already satisfied: jedi>=0.16 in c:\\users\\jagru\\anaconda3\\envs\\dl1\\lib\\site-packages (from ipython>=4.0.0->ipywidgets==7.7.2) (0.19.1)\n",
      "Requirement already satisfied: prompt-toolkit<3.1.0,>=3.0.41 in c:\\users\\jagru\\anaconda3\\envs\\dl1\\lib\\site-packages (from ipython>=4.0.0->ipywidgets==7.7.2) (3.0.43)\n",
      "Requirement already satisfied: pygments>=2.4.0 in c:\\users\\jagru\\anaconda3\\envs\\dl1\\lib\\site-packages (from ipython>=4.0.0->ipywidgets==7.7.2) (2.15.1)\n",
      "Requirement already satisfied: stack-data in c:\\users\\jagru\\anaconda3\\envs\\dl1\\lib\\site-packages (from ipython>=4.0.0->ipywidgets==7.7.2) (0.2.0)\n",
      "Requirement already satisfied: exceptiongroup in c:\\users\\jagru\\anaconda3\\envs\\dl1\\lib\\site-packages (from ipython>=4.0.0->ipywidgets==7.7.2) (1.2.0)\n",
      "Requirement already satisfied: typing-extensions>=4.6 in c:\\users\\jagru\\anaconda3\\envs\\dl1\\lib\\site-packages (from ipython>=4.0.0->ipywidgets==7.7.2) (4.11.0)\n",
      "Requirement already satisfied: colorama in c:\\users\\jagru\\anaconda3\\envs\\dl1\\lib\\site-packages (from ipython>=4.0.0->ipywidgets==7.7.2) (0.4.6)\n",
      "Requirement already satisfied: notebook>=4.4.1 in c:\\users\\jagru\\anaconda3\\envs\\dl1\\lib\\site-packages (from widgetsnbextension~=3.6.0->ipywidgets==7.7.2) (7.2.2)\n",
      "Requirement already satisfied: parso<0.9.0,>=0.8.3 in c:\\users\\jagru\\anaconda3\\envs\\dl1\\lib\\site-packages (from jedi>=0.16->ipython>=4.0.0->ipywidgets==7.7.2) (0.8.3)\n",
      "Requirement already satisfied: python-dateutil>=2.8.2 in c:\\users\\jagru\\anaconda3\\envs\\dl1\\lib\\site-packages (from jupyter-client>=6.1.12->ipykernel>=4.5.1->ipywidgets==7.7.2) (2.9.0.post0)\n",
      "Requirement already satisfied: platformdirs>=2.5 in c:\\users\\jagru\\anaconda3\\envs\\dl1\\lib\\site-packages (from jupyter-core!=5.0.*,>=4.12->ipykernel>=4.5.1->ipywidgets==7.7.2) (4.3.6)\n",
      "Requirement already satisfied: pywin32>=300 in c:\\users\\jagru\\anaconda3\\envs\\dl1\\lib\\site-packages (from jupyter-core!=5.0.*,>=4.12->ipykernel>=4.5.1->ipywidgets==7.7.2) (307)\n",
      "Requirement already satisfied: jupyter-server<3,>=2.4.0 in c:\\users\\jagru\\anaconda3\\envs\\dl1\\lib\\site-packages (from notebook>=4.4.1->widgetsnbextension~=3.6.0->ipywidgets==7.7.2) (2.14.2)\n",
      "Requirement already satisfied: jupyterlab-server<3,>=2.27.1 in c:\\users\\jagru\\anaconda3\\envs\\dl1\\lib\\site-packages (from notebook>=4.4.1->widgetsnbextension~=3.6.0->ipywidgets==7.7.2) (2.27.3)\n",
      "Requirement already satisfied: jupyterlab<4.3,>=4.2.0 in c:\\users\\jagru\\anaconda3\\envs\\dl1\\lib\\site-packages (from notebook>=4.4.1->widgetsnbextension~=3.6.0->ipywidgets==7.7.2) (4.2.6)\n",
      "Requirement already satisfied: notebook-shim<0.3,>=0.2 in c:\\users\\jagru\\anaconda3\\envs\\dl1\\lib\\site-packages (from notebook>=4.4.1->widgetsnbextension~=3.6.0->ipywidgets==7.7.2) (0.2.4)\n",
      "Requirement already satisfied: wcwidth in c:\\users\\jagru\\anaconda3\\envs\\dl1\\lib\\site-packages (from prompt-toolkit<3.1.0,>=3.0.41->ipython>=4.0.0->ipywidgets==7.7.2) (0.2.5)\n",
      "Requirement already satisfied: executing in c:\\users\\jagru\\anaconda3\\envs\\dl1\\lib\\site-packages (from stack-data->ipython>=4.0.0->ipywidgets==7.7.2) (0.8.3)\n",
      "Requirement already satisfied: asttokens in c:\\users\\jagru\\anaconda3\\envs\\dl1\\lib\\site-packages (from stack-data->ipython>=4.0.0->ipywidgets==7.7.2) (2.0.5)\n",
      "Requirement already satisfied: pure-eval in c:\\users\\jagru\\anaconda3\\envs\\dl1\\lib\\site-packages (from stack-data->ipython>=4.0.0->ipywidgets==7.7.2) (0.2.2)\n",
      "Requirement already satisfied: anyio>=3.1.0 in c:\\users\\jagru\\anaconda3\\envs\\dl1\\lib\\site-packages (from jupyter-server<3,>=2.4.0->notebook>=4.4.1->widgetsnbextension~=3.6.0->ipywidgets==7.7.2) (4.6.2.post1)\n",
      "Requirement already satisfied: argon2-cffi>=21.1 in c:\\users\\jagru\\anaconda3\\envs\\dl1\\lib\\site-packages (from jupyter-server<3,>=2.4.0->notebook>=4.4.1->widgetsnbextension~=3.6.0->ipywidgets==7.7.2) (23.1.0)\n",
      "Requirement already satisfied: jinja2>=3.0.3 in c:\\users\\jagru\\anaconda3\\envs\\dl1\\lib\\site-packages (from jupyter-server<3,>=2.4.0->notebook>=4.4.1->widgetsnbextension~=3.6.0->ipywidgets==7.7.2) (3.1.4)\n",
      "Requirement already satisfied: jupyter-events>=0.9.0 in c:\\users\\jagru\\anaconda3\\envs\\dl1\\lib\\site-packages (from jupyter-server<3,>=2.4.0->notebook>=4.4.1->widgetsnbextension~=3.6.0->ipywidgets==7.7.2) (0.10.0)\n",
      "Requirement already satisfied: jupyter-server-terminals>=0.4.4 in c:\\users\\jagru\\anaconda3\\envs\\dl1\\lib\\site-packages (from jupyter-server<3,>=2.4.0->notebook>=4.4.1->widgetsnbextension~=3.6.0->ipywidgets==7.7.2) (0.5.3)\n",
      "Requirement already satisfied: nbconvert>=6.4.4 in c:\\users\\jagru\\anaconda3\\envs\\dl1\\lib\\site-packages (from jupyter-server<3,>=2.4.0->notebook>=4.4.1->widgetsnbextension~=3.6.0->ipywidgets==7.7.2) (7.16.4)\n",
      "Requirement already satisfied: nbformat>=5.3.0 in c:\\users\\jagru\\anaconda3\\envs\\dl1\\lib\\site-packages (from jupyter-server<3,>=2.4.0->notebook>=4.4.1->widgetsnbextension~=3.6.0->ipywidgets==7.7.2) (5.10.4)\n",
      "Requirement already satisfied: overrides>=5.0 in c:\\users\\jagru\\anaconda3\\envs\\dl1\\lib\\site-packages (from jupyter-server<3,>=2.4.0->notebook>=4.4.1->widgetsnbextension~=3.6.0->ipywidgets==7.7.2) (7.7.0)\n",
      "Requirement already satisfied: prometheus-client>=0.9 in c:\\users\\jagru\\anaconda3\\envs\\dl1\\lib\\site-packages (from jupyter-server<3,>=2.4.0->notebook>=4.4.1->widgetsnbextension~=3.6.0->ipywidgets==7.7.2) (0.21.0)\n",
      "Requirement already satisfied: pywinpty>=2.0.1 in c:\\users\\jagru\\anaconda3\\envs\\dl1\\lib\\site-packages (from jupyter-server<3,>=2.4.0->notebook>=4.4.1->widgetsnbextension~=3.6.0->ipywidgets==7.7.2) (2.0.14)\n",
      "Requirement already satisfied: send2trash>=1.8.2 in c:\\users\\jagru\\anaconda3\\envs\\dl1\\lib\\site-packages (from jupyter-server<3,>=2.4.0->notebook>=4.4.1->widgetsnbextension~=3.6.0->ipywidgets==7.7.2) (1.8.3)\n",
      "Requirement already satisfied: terminado>=0.8.3 in c:\\users\\jagru\\anaconda3\\envs\\dl1\\lib\\site-packages (from jupyter-server<3,>=2.4.0->notebook>=4.4.1->widgetsnbextension~=3.6.0->ipywidgets==7.7.2) (0.18.1)\n",
      "Requirement already satisfied: websocket-client>=1.7 in c:\\users\\jagru\\anaconda3\\envs\\dl1\\lib\\site-packages (from jupyter-server<3,>=2.4.0->notebook>=4.4.1->widgetsnbextension~=3.6.0->ipywidgets==7.7.2) (1.8.0)\n",
      "Requirement already satisfied: async-lru>=1.0.0 in c:\\users\\jagru\\anaconda3\\envs\\dl1\\lib\\site-packages (from jupyterlab<4.3,>=4.2.0->notebook>=4.4.1->widgetsnbextension~=3.6.0->ipywidgets==7.7.2) (2.0.4)\n",
      "Requirement already satisfied: httpx>=0.25.0 in c:\\users\\jagru\\anaconda3\\envs\\dl1\\lib\\site-packages (from jupyterlab<4.3,>=4.2.0->notebook>=4.4.1->widgetsnbextension~=3.6.0->ipywidgets==7.7.2) (0.27.2)\n",
      "Requirement already satisfied: jupyter-lsp>=2.0.0 in c:\\users\\jagru\\anaconda3\\envs\\dl1\\lib\\site-packages (from jupyterlab<4.3,>=4.2.0->notebook>=4.4.1->widgetsnbextension~=3.6.0->ipywidgets==7.7.2) (2.2.5)\n",
      "Requirement already satisfied: setuptools>=40.1.0 in c:\\users\\jagru\\anaconda3\\envs\\dl1\\lib\\site-packages (from jupyterlab<4.3,>=4.2.0->notebook>=4.4.1->widgetsnbextension~=3.6.0->ipywidgets==7.7.2) (75.1.0)\n",
      "Requirement already satisfied: tomli>=1.2.2 in c:\\users\\jagru\\anaconda3\\envs\\dl1\\lib\\site-packages (from jupyterlab<4.3,>=4.2.0->notebook>=4.4.1->widgetsnbextension~=3.6.0->ipywidgets==7.7.2) (2.1.0)\n",
      "Requirement already satisfied: babel>=2.10 in c:\\users\\jagru\\anaconda3\\envs\\dl1\\lib\\site-packages (from jupyterlab-server<3,>=2.27.1->notebook>=4.4.1->widgetsnbextension~=3.6.0->ipywidgets==7.7.2) (2.16.0)\n",
      "Requirement already satisfied: json5>=0.9.0 in c:\\users\\jagru\\anaconda3\\envs\\dl1\\lib\\site-packages (from jupyterlab-server<3,>=2.27.1->notebook>=4.4.1->widgetsnbextension~=3.6.0->ipywidgets==7.7.2) (0.9.28)\n",
      "Requirement already satisfied: jsonschema>=4.18.0 in c:\\users\\jagru\\anaconda3\\envs\\dl1\\lib\\site-packages (from jupyterlab-server<3,>=2.27.1->notebook>=4.4.1->widgetsnbextension~=3.6.0->ipywidgets==7.7.2) (4.23.0)\n",
      "Requirement already satisfied: requests>=2.31 in c:\\users\\jagru\\anaconda3\\envs\\dl1\\lib\\site-packages (from jupyterlab-server<3,>=2.27.1->notebook>=4.4.1->widgetsnbextension~=3.6.0->ipywidgets==7.7.2) (2.32.3)\n",
      "Requirement already satisfied: six>=1.5 in c:\\users\\jagru\\anaconda3\\envs\\dl1\\lib\\site-packages (from python-dateutil>=2.8.2->jupyter-client>=6.1.12->ipykernel>=4.5.1->ipywidgets==7.7.2) (1.16.0)\n",
      "Requirement already satisfied: idna>=2.8 in c:\\users\\jagru\\anaconda3\\envs\\dl1\\lib\\site-packages (from anyio>=3.1.0->jupyter-server<3,>=2.4.0->notebook>=4.4.1->widgetsnbextension~=3.6.0->ipywidgets==7.7.2) (3.10)\n",
      "Requirement already satisfied: sniffio>=1.1 in c:\\users\\jagru\\anaconda3\\envs\\dl1\\lib\\site-packages (from anyio>=3.1.0->jupyter-server<3,>=2.4.0->notebook>=4.4.1->widgetsnbextension~=3.6.0->ipywidgets==7.7.2) (1.3.1)\n",
      "Requirement already satisfied: argon2-cffi-bindings in c:\\users\\jagru\\anaconda3\\envs\\dl1\\lib\\site-packages (from argon2-cffi>=21.1->jupyter-server<3,>=2.4.0->notebook>=4.4.1->widgetsnbextension~=3.6.0->ipywidgets==7.7.2) (21.2.0)\n",
      "Requirement already satisfied: certifi in c:\\users\\jagru\\anaconda3\\envs\\dl1\\lib\\site-packages (from httpx>=0.25.0->jupyterlab<4.3,>=4.2.0->notebook>=4.4.1->widgetsnbextension~=3.6.0->ipywidgets==7.7.2) (2024.8.30)\n",
      "Requirement already satisfied: httpcore==1.* in c:\\users\\jagru\\anaconda3\\envs\\dl1\\lib\\site-packages (from httpx>=0.25.0->jupyterlab<4.3,>=4.2.0->notebook>=4.4.1->widgetsnbextension~=3.6.0->ipywidgets==7.7.2) (1.0.7)\n",
      "Requirement already satisfied: h11<0.15,>=0.13 in c:\\users\\jagru\\anaconda3\\envs\\dl1\\lib\\site-packages (from httpcore==1.*->httpx>=0.25.0->jupyterlab<4.3,>=4.2.0->notebook>=4.4.1->widgetsnbextension~=3.6.0->ipywidgets==7.7.2) (0.14.0)\n",
      "Requirement already satisfied: MarkupSafe>=2.0 in c:\\users\\jagru\\anaconda3\\envs\\dl1\\lib\\site-packages (from jinja2>=3.0.3->jupyter-server<3,>=2.4.0->notebook>=4.4.1->widgetsnbextension~=3.6.0->ipywidgets==7.7.2) (3.0.2)\n",
      "Requirement already satisfied: attrs>=22.2.0 in c:\\users\\jagru\\anaconda3\\envs\\dl1\\lib\\site-packages (from jsonschema>=4.18.0->jupyterlab-server<3,>=2.27.1->notebook>=4.4.1->widgetsnbextension~=3.6.0->ipywidgets==7.7.2) (24.2.0)\n",
      "Requirement already satisfied: jsonschema-specifications>=2023.03.6 in c:\\users\\jagru\\anaconda3\\envs\\dl1\\lib\\site-packages (from jsonschema>=4.18.0->jupyterlab-server<3,>=2.27.1->notebook>=4.4.1->widgetsnbextension~=3.6.0->ipywidgets==7.7.2) (2024.10.1)\n",
      "Requirement already satisfied: referencing>=0.28.4 in c:\\users\\jagru\\anaconda3\\envs\\dl1\\lib\\site-packages (from jsonschema>=4.18.0->jupyterlab-server<3,>=2.27.1->notebook>=4.4.1->widgetsnbextension~=3.6.0->ipywidgets==7.7.2) (0.35.1)\n",
      "Requirement already satisfied: rpds-py>=0.7.1 in c:\\users\\jagru\\anaconda3\\envs\\dl1\\lib\\site-packages (from jsonschema>=4.18.0->jupyterlab-server<3,>=2.27.1->notebook>=4.4.1->widgetsnbextension~=3.6.0->ipywidgets==7.7.2) (0.21.0)\n",
      "Requirement already satisfied: python-json-logger>=2.0.4 in c:\\users\\jagru\\anaconda3\\envs\\dl1\\lib\\site-packages (from jupyter-events>=0.9.0->jupyter-server<3,>=2.4.0->notebook>=4.4.1->widgetsnbextension~=3.6.0->ipywidgets==7.7.2) (2.0.7)\n",
      "Requirement already satisfied: pyyaml>=5.3 in c:\\users\\jagru\\anaconda3\\envs\\dl1\\lib\\site-packages (from jupyter-events>=0.9.0->jupyter-server<3,>=2.4.0->notebook>=4.4.1->widgetsnbextension~=3.6.0->ipywidgets==7.7.2) (6.0)\n",
      "Requirement already satisfied: rfc3339-validator in c:\\users\\jagru\\anaconda3\\envs\\dl1\\lib\\site-packages (from jupyter-events>=0.9.0->jupyter-server<3,>=2.4.0->notebook>=4.4.1->widgetsnbextension~=3.6.0->ipywidgets==7.7.2) (0.1.4)\n",
      "Requirement already satisfied: rfc3986-validator>=0.1.1 in c:\\users\\jagru\\anaconda3\\envs\\dl1\\lib\\site-packages (from jupyter-events>=0.9.0->jupyter-server<3,>=2.4.0->notebook>=4.4.1->widgetsnbextension~=3.6.0->ipywidgets==7.7.2) (0.1.1)\n",
      "Requirement already satisfied: beautifulsoup4 in c:\\users\\jagru\\anaconda3\\envs\\dl1\\lib\\site-packages (from nbconvert>=6.4.4->jupyter-server<3,>=2.4.0->notebook>=4.4.1->widgetsnbextension~=3.6.0->ipywidgets==7.7.2) (4.12.3)\n",
      "Requirement already satisfied: bleach!=5.0.0 in c:\\users\\jagru\\anaconda3\\envs\\dl1\\lib\\site-packages (from nbconvert>=6.4.4->jupyter-server<3,>=2.4.0->notebook>=4.4.1->widgetsnbextension~=3.6.0->ipywidgets==7.7.2) (6.2.0)\n",
      "Requirement already satisfied: defusedxml in c:\\users\\jagru\\anaconda3\\envs\\dl1\\lib\\site-packages (from nbconvert>=6.4.4->jupyter-server<3,>=2.4.0->notebook>=4.4.1->widgetsnbextension~=3.6.0->ipywidgets==7.7.2) (0.7.1)\n",
      "Requirement already satisfied: jupyterlab-pygments in c:\\users\\jagru\\anaconda3\\envs\\dl1\\lib\\site-packages (from nbconvert>=6.4.4->jupyter-server<3,>=2.4.0->notebook>=4.4.1->widgetsnbextension~=3.6.0->ipywidgets==7.7.2) (0.3.0)\n",
      "Requirement already satisfied: mistune<4,>=2.0.3 in c:\\users\\jagru\\anaconda3\\envs\\dl1\\lib\\site-packages (from nbconvert>=6.4.4->jupyter-server<3,>=2.4.0->notebook>=4.4.1->widgetsnbextension~=3.6.0->ipywidgets==7.7.2) (3.0.2)\n",
      "Requirement already satisfied: nbclient>=0.5.0 in c:\\users\\jagru\\anaconda3\\envs\\dl1\\lib\\site-packages (from nbconvert>=6.4.4->jupyter-server<3,>=2.4.0->notebook>=4.4.1->widgetsnbextension~=3.6.0->ipywidgets==7.7.2) (0.10.0)\n",
      "Requirement already satisfied: pandocfilters>=1.4.1 in c:\\users\\jagru\\anaconda3\\envs\\dl1\\lib\\site-packages (from nbconvert>=6.4.4->jupyter-server<3,>=2.4.0->notebook>=4.4.1->widgetsnbextension~=3.6.0->ipywidgets==7.7.2) (1.5.1)\n",
      "Requirement already satisfied: tinycss2 in c:\\users\\jagru\\anaconda3\\envs\\dl1\\lib\\site-packages (from nbconvert>=6.4.4->jupyter-server<3,>=2.4.0->notebook>=4.4.1->widgetsnbextension~=3.6.0->ipywidgets==7.7.2) (1.4.0)\n",
      "Requirement already satisfied: fastjsonschema>=2.15 in c:\\users\\jagru\\anaconda3\\envs\\dl1\\lib\\site-packages (from nbformat>=5.3.0->jupyter-server<3,>=2.4.0->notebook>=4.4.1->widgetsnbextension~=3.6.0->ipywidgets==7.7.2) (2.20.0)\n",
      "Requirement already satisfied: charset-normalizer<4,>=2 in c:\\users\\jagru\\anaconda3\\envs\\dl1\\lib\\site-packages (from requests>=2.31->jupyterlab-server<3,>=2.27.1->notebook>=4.4.1->widgetsnbextension~=3.6.0->ipywidgets==7.7.2) (3.4.0)\n",
      "Requirement already satisfied: urllib3<3,>=1.21.1 in c:\\users\\jagru\\anaconda3\\envs\\dl1\\lib\\site-packages (from requests>=2.31->jupyterlab-server<3,>=2.27.1->notebook>=4.4.1->widgetsnbextension~=3.6.0->ipywidgets==7.7.2) (2.2.3)\n",
      "Requirement already satisfied: webencodings in c:\\users\\jagru\\anaconda3\\envs\\dl1\\lib\\site-packages (from bleach!=5.0.0->nbconvert>=6.4.4->jupyter-server<3,>=2.4.0->notebook>=4.4.1->widgetsnbextension~=3.6.0->ipywidgets==7.7.2) (0.5.1)\n",
      "Requirement already satisfied: fqdn in c:\\users\\jagru\\anaconda3\\envs\\dl1\\lib\\site-packages (from jsonschema[format-nongpl]>=4.18.0->jupyter-events>=0.9.0->jupyter-server<3,>=2.4.0->notebook>=4.4.1->widgetsnbextension~=3.6.0->ipywidgets==7.7.2) (1.5.1)\n",
      "Requirement already satisfied: isoduration in c:\\users\\jagru\\anaconda3\\envs\\dl1\\lib\\site-packages (from jsonschema[format-nongpl]>=4.18.0->jupyter-events>=0.9.0->jupyter-server<3,>=2.4.0->notebook>=4.4.1->widgetsnbextension~=3.6.0->ipywidgets==7.7.2) (20.11.0)\n",
      "Requirement already satisfied: jsonpointer>1.13 in c:\\users\\jagru\\anaconda3\\envs\\dl1\\lib\\site-packages (from jsonschema[format-nongpl]>=4.18.0->jupyter-events>=0.9.0->jupyter-server<3,>=2.4.0->notebook>=4.4.1->widgetsnbextension~=3.6.0->ipywidgets==7.7.2) (3.0.0)\n",
      "Requirement already satisfied: uri-template in c:\\users\\jagru\\anaconda3\\envs\\dl1\\lib\\site-packages (from jsonschema[format-nongpl]>=4.18.0->jupyter-events>=0.9.0->jupyter-server<3,>=2.4.0->notebook>=4.4.1->widgetsnbextension~=3.6.0->ipywidgets==7.7.2) (1.3.0)\n",
      "Requirement already satisfied: webcolors>=24.6.0 in c:\\users\\jagru\\anaconda3\\envs\\dl1\\lib\\site-packages (from jsonschema[format-nongpl]>=4.18.0->jupyter-events>=0.9.0->jupyter-server<3,>=2.4.0->notebook>=4.4.1->widgetsnbextension~=3.6.0->ipywidgets==7.7.2) (24.11.1)\n",
      "Requirement already satisfied: cffi>=1.0.1 in c:\\users\\jagru\\anaconda3\\envs\\dl1\\lib\\site-packages (from argon2-cffi-bindings->argon2-cffi>=21.1->jupyter-server<3,>=2.4.0->notebook>=4.4.1->widgetsnbextension~=3.6.0->ipywidgets==7.7.2) (1.17.1)\n",
      "Requirement already satisfied: soupsieve>1.2 in c:\\users\\jagru\\anaconda3\\envs\\dl1\\lib\\site-packages (from beautifulsoup4->nbconvert>=6.4.4->jupyter-server<3,>=2.4.0->notebook>=4.4.1->widgetsnbextension~=3.6.0->ipywidgets==7.7.2) (2.6)\n",
      "Requirement already satisfied: pycparser in c:\\users\\jagru\\anaconda3\\envs\\dl1\\lib\\site-packages (from cffi>=1.0.1->argon2-cffi-bindings->argon2-cffi>=21.1->jupyter-server<3,>=2.4.0->notebook>=4.4.1->widgetsnbextension~=3.6.0->ipywidgets==7.7.2) (2.22)\n",
      "Requirement already satisfied: arrow>=0.15.0 in c:\\users\\jagru\\anaconda3\\envs\\dl1\\lib\\site-packages (from isoduration->jsonschema[format-nongpl]>=4.18.0->jupyter-events>=0.9.0->jupyter-server<3,>=2.4.0->notebook>=4.4.1->widgetsnbextension~=3.6.0->ipywidgets==7.7.2) (1.3.0)\n",
      "Requirement already satisfied: types-python-dateutil>=2.8.10 in c:\\users\\jagru\\anaconda3\\envs\\dl1\\lib\\site-packages (from arrow>=0.15.0->isoduration->jsonschema[format-nongpl]>=4.18.0->jupyter-events>=0.9.0->jupyter-server<3,>=2.4.0->notebook>=4.4.1->widgetsnbextension~=3.6.0->ipywidgets==7.7.2) (2.9.0.20241003)\n",
      "Downloading ipywidgets-7.7.2-py2.py3-none-any.whl (123 kB)\n",
      "Downloading jupyterlab_widgets-1.1.11-py3-none-any.whl (246 kB)\n",
      "Downloading widgetsnbextension-3.6.10-py2.py3-none-any.whl (1.6 MB)\n",
      "   ---------------------------------------- 0.0/1.6 MB ? eta -:--:--\n",
      "   ---------------------------------------- 1.6/1.6 MB 9.2 MB/s eta 0:00:00\n",
      "Installing collected packages: jupyterlab-widgets, widgetsnbextension, ipywidgets\n",
      "  Attempting uninstall: widgetsnbextension\n",
      "    Found existing installation: widgetsnbextension 3.5.2\n",
      "    Uninstalling widgetsnbextension-3.5.2:\n",
      "      Successfully uninstalled widgetsnbextension-3.5.2\n",
      "  Attempting uninstall: ipywidgets\n",
      "    Found existing installation: ipywidgets 7.6.5\n",
      "    Uninstalling ipywidgets-7.6.5:\n",
      "      Successfully uninstalled ipywidgets-7.6.5\n",
      "Successfully installed ipywidgets-7.7.2 jupyterlab-widgets-1.1.11 widgetsnbextension-3.6.10\n"
     ]
    },
    {
     "name": "stderr",
     "output_type": "stream",
     "text": [
      "WARNING: Ignoring invalid distribution -upyterlab (c:\\users\\jagru\\anaconda3\\envs\\dl1\\lib\\site-packages)\n",
      "WARNING: Ignoring invalid distribution -upyterlab (c:\\users\\jagru\\anaconda3\\envs\\dl1\\lib\\site-packages)\n"
     ]
    }
   ],
   "source": [
    "!pip install ipywidgets==7.7.2 --user"
   ]
  },
  {
   "cell_type": "code",
   "execution_count": 1,
   "metadata": {},
   "outputs": [
    {
     "data": {
      "text/plain": [
       "'7.7.2'"
      ]
     },
     "execution_count": 1,
     "metadata": {},
     "output_type": "execute_result"
    }
   ],
   "source": [
    "import ipywidgets\n",
    "ipywidgets.__version__"
   ]
  },
  {
   "cell_type": "code",
   "execution_count": 2,
   "metadata": {},
   "outputs": [
    {
     "name": "stdout",
     "output_type": "stream",
     "text": [
      "Requirement already satisfied: numpy in c:\\users\\jagru\\anaconda3\\envs\\dl1\\lib\\site-packages (2.1.3)\n"
     ]
    },
    {
     "name": "stderr",
     "output_type": "stream",
     "text": [
      "WARNING: Ignoring invalid distribution -upyterlab (c:\\users\\jagru\\anaconda3\\envs\\dl1\\lib\\site-packages)\n",
      "WARNING: Ignoring invalid distribution -upyterlab (c:\\users\\jagru\\anaconda3\\envs\\dl1\\lib\\site-packages)\n",
      "WARNING: Ignoring invalid distribution -upyterlab (c:\\users\\jagru\\anaconda3\\envs\\dl1\\lib\\site-packages)\n"
     ]
    },
    {
     "name": "stdout",
     "output_type": "stream",
     "text": [
      "Requirement already satisfied: opencv-python in c:\\users\\jagru\\anaconda3\\envs\\dl1\\lib\\site-packages (4.10.0.84)\n",
      "Requirement already satisfied: numpy>=1.21.2 in c:\\users\\jagru\\anaconda3\\envs\\dl1\\lib\\site-packages (from opencv-python) (2.1.3)\n"
     ]
    },
    {
     "name": "stderr",
     "output_type": "stream",
     "text": [
      "WARNING: Ignoring invalid distribution -upyterlab (c:\\users\\jagru\\anaconda3\\envs\\dl1\\lib\\site-packages)\n",
      "WARNING: Ignoring invalid distribution -upyterlab (c:\\users\\jagru\\anaconda3\\envs\\dl1\\lib\\site-packages)\n",
      "WARNING: Ignoring invalid distribution -upyterlab (c:\\users\\jagru\\anaconda3\\envs\\dl1\\lib\\site-packages)\n"
     ]
    },
    {
     "name": "stdout",
     "output_type": "stream",
     "text": [
      "Requirement already satisfied: pandas in c:\\users\\jagru\\anaconda3\\envs\\dl1\\lib\\site-packages (2.2.3)\n",
      "Requirement already satisfied: numpy>=1.22.4 in c:\\users\\jagru\\anaconda3\\envs\\dl1\\lib\\site-packages (from pandas) (2.1.3)\n",
      "Requirement already satisfied: python-dateutil>=2.8.2 in c:\\users\\jagru\\anaconda3\\envs\\dl1\\lib\\site-packages (from pandas) (2.9.0.post0)\n",
      "Requirement already satisfied: pytz>=2020.1 in c:\\users\\jagru\\anaconda3\\envs\\dl1\\lib\\site-packages (from pandas) (2024.2)\n",
      "Requirement already satisfied: tzdata>=2022.7 in c:\\users\\jagru\\anaconda3\\envs\\dl1\\lib\\site-packages (from pandas) (2024.2)\n",
      "Requirement already satisfied: six>=1.5 in c:\\users\\jagru\\anaconda3\\envs\\dl1\\lib\\site-packages (from python-dateutil>=2.8.2->pandas) (1.16.0)\n"
     ]
    },
    {
     "name": "stderr",
     "output_type": "stream",
     "text": [
      "WARNING: Ignoring invalid distribution -upyterlab (c:\\users\\jagru\\anaconda3\\envs\\dl1\\lib\\site-packages)\n",
      "WARNING: Ignoring invalid distribution -upyterlab (c:\\users\\jagru\\anaconda3\\envs\\dl1\\lib\\site-packages)\n",
      "WARNING: Ignoring invalid distribution -upyterlab (c:\\users\\jagru\\anaconda3\\envs\\dl1\\lib\\site-packages)\n"
     ]
    }
   ],
   "source": [
    "!pip install -U numpy\n",
    "!pip install -U opencv-python\n",
    "!pip install -U pandas"
   ]
  },
  {
   "cell_type": "code",
   "execution_count": 24,
   "metadata": {},
   "outputs": [],
   "source": [
    "from ipywidgets import interact, fixed, interact_manual, FloatSlider, IntSlider\n",
    "import math\n",
    "from matplotlib import rc\n",
    "rc('animation', html='jshtml')\n",
    "import numpy as np\n",
    "%matplotlib inline\n",
    "# local modules\n",
    "from util import Timer, Event, normalize_image, animate, load_events, plot_3d, event_slice"
   ]
  },
  {
   "cell_type": "code",
   "execution_count": 23,
   "metadata": {},
   "outputs": [],
   "source": [
    "def high_pass_filter(event_data, cutoff_frequency=5):\n",
    "    print('Reconstructing, please wait...')\n",
    "    events, height, width = event_data.event_list, event_data.height, event_data.width\n",
    "    events_per_frame = 2e4\n",
    "    with Timer('Reconstruction'):\n",
    "        time_surface = np.zeros((height, width), dtype=np.float32)\n",
    "        image_state = np.zeros((height, width), dtype=np.float32)\n",
    "        image_list = []\n",
    "        for i, e in enumerate(events):\n",
    "            beta = math.exp(-cutoff_frequency * (e.t - time_surface[e.y, e.x]))\n",
    "            image_state[e.y, e.x] = beta * image_state[e.y, e.x] + e.p\n",
    "            time_surface[e.y, e.x] = e.t\n",
    "            if i % events_per_frame == 0:\n",
    "                beta = np.exp(-cutoff_frequency * (e.t - time_surface))\n",
    "                image_state *= beta\n",
    "                time_surface.fill(e.t)\n",
    "                image_list.append(np.copy(image_state))\n",
    "    return animate(image_list, 'High Pass Filter')\n",
    "\n",
    "def leaky_integrator(event_data, beta=1.0):\n",
    "    print('Reconstructing, please wait...')\n",
    "    events, height, width = event_data.event_list, event_data.height, event_data.width\n",
    "    events_per_frame = 2e4\n",
    "    with Timer('Reconstruction (simple)'):\n",
    "        image_state = np.zeros((height, width), dtype=np.float32)\n",
    "        image_list = []\n",
    "        for i, e in enumerate(events):\n",
    "            image_state[e.y, e.x] = beta * image_state[e.y, e.x] + e.p\n",
    "            if i % events_per_frame == 0:\n",
    "                image_list.append(np.copy(image_state))\n",
    "    fig_title = 'Direct Integration' if beta == 1 else 'Leaky Integrator'\n",
    "    return animate(image_list, fig_title)\n"
   ]
  },
  {
   "cell_type": "code",
   "execution_count": 22,
   "metadata": {},
   "outputs": [
    {
     "name": "stdout",
     "output_type": "stream",
     "text": [
      "Loading events...\n",
      "width, height: 240, 180\n"
     ]
    },
    {
     "name": "stderr",
     "output_type": "stream",
     "text": [
      "c:\\Users\\jagru\\Desktop\\DL\\jupnote_event_demo-master\\util.py:82: FutureWarning: The 'delim_whitespace' keyword in pd.read_csv is deprecated and will be removed in a future version. Use ``sep='\\s+'`` instead\n",
      "  header = pd.read_csv(path_to_events, delim_whitespace=True, names=['width', 'height'],\n",
      "c:\\Users\\jagru\\Desktop\\DL\\jupnote_event_demo-master\\util.py:86: FutureWarning: The 'delim_whitespace' keyword in pd.read_csv is deprecated and will be removed in a future version. Use ``sep='\\s+'`` instead\n",
      "  event_pd = pd.read_csv(path_to_events, delim_whitespace=True, header=None,\n"
     ]
    },
    {
     "name": "stdout",
     "output_type": "stream",
     "text": [
      "Loaded 0.50M events\n",
      "Loading: 1.82s\n"
     ]
    }
   ],
   "source": [
    "with Timer('Loading'):\n",
    "    n_events = 5e5\n",
    "    path_to_events = 'data/boxes_6dof/events.zip'\n",
    "    event_data = load_events(path_to_events, n_events)        "
   ]
  },
  {
   "cell_type": "markdown",
   "metadata": {},
   "source": [
    "## Image reconstruction\n",
    "Run the cell, then click ```Run Interact``` and wait for the animation to appear to see the result.  \n",
    "Use the slider then click ```Run Interact``` again to try different settings.\n",
    "\n",
    "### Leaky integrator\n",
    "Equation: $L^{k+1}(x, y) = \\beta L^k(x, y) + p,\\ \\beta \\in [0, 1],\\ p \\in \\{-1, 1\\}$, where $L$ is the log image intensity and $p$ is the event polarity.\n",
    "\n",
    "#### Set ```beta = 1``` for direct integration. Try lowering beta to see what happens."
   ]
  },
  {
   "cell_type": "code",
   "execution_count": null,
   "metadata": {},
   "outputs": [
    {
     "data": {
      "application/vnd.jupyter.widget-view+json": {
       "model_id": "a41e06badb1044bc9166f7c212e0c3eb",
       "version_major": 2,
       "version_minor": 0
      },
      "text/plain": [
       "interactive(children=(FloatSlider(value=1.0, description='beta', max=1.0, step=0.01), Button(description='Run …"
      ]
     },
     "metadata": {},
     "output_type": "display_data"
    }
   ],
   "source": [
    "interact_manual(leaky_integrator, event_data=fixed(event_data), beta=(0, 1, 0.01));"
   ]
  },
  {
   "cell_type": "markdown",
   "metadata": {},
   "source": [
    "### High pass filter\n",
    "Below is the high pass filter as described in: https://cedric-scheerlinck.github.io/files/2018_scheerlinck_continuous-time_intensity_estimation.pdf  \n",
    "Equation: $L^{k+1}(x, y) = \\exp(-\\alpha \\Delta t) L^k(x, y) + p$, where $\\alpha$ is the cutoff frequency and $\\Delta t$ is the time since the last event at the same pixel."
   ]
  },
  {
   "cell_type": "code",
   "execution_count": null,
   "metadata": {},
   "outputs": [
    {
     "data": {
      "application/vnd.jupyter.widget-view+json": {
       "model_id": "7008aea38353403eb9276cd69c43431d",
       "version_major": 2,
       "version_minor": 0
      },
      "text/plain": [
       "interactive(children=(FloatSlider(value=5.0, description='cutoff_frequency', max=20.0, step=0.01), Button(desc…"
      ]
     },
     "metadata": {},
     "output_type": "display_data"
    }
   ],
   "source": [
    "interact_manual(high_pass_filter, event_data=fixed(event_data), cutoff_frequency=(0, 20, 0.01));"
   ]
  }
 ],
 "metadata": {
  "kernelspec": {
   "display_name": "dl1",
   "language": "python",
   "name": "python3"
  },
  "language_info": {
   "codemirror_mode": {
    "name": "ipython",
    "version": 3
   },
   "file_extension": ".py",
   "mimetype": "text/x-python",
   "name": "python",
   "nbconvert_exporter": "python",
   "pygments_lexer": "ipython3",
   "version": "3.10.15"
  },
  "varInspector": {
   "cols": {
    "lenName": 16,
    "lenType": 16,
    "lenVar": 40
   },
   "kernels_config": {
    "python": {
     "delete_cmd_postfix": "",
     "delete_cmd_prefix": "del ",
     "library": "var_list.py",
     "varRefreshCmd": "print(var_dic_list())"
    },
    "r": {
     "delete_cmd_postfix": ") ",
     "delete_cmd_prefix": "rm(",
     "library": "var_list.r",
     "varRefreshCmd": "cat(var_dic_list()) "
    }
   },
   "types_to_exclude": [
    "module",
    "function",
    "builtin_function_or_method",
    "instance",
    "_Feature"
   ],
   "window_display": false
  }
 },
 "nbformat": 4,
 "nbformat_minor": 4
}
